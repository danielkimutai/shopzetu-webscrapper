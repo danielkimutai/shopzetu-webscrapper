{
 "cells": [
  {
   "attachments": {},
   "cell_type": "markdown",
   "metadata": {},
   "source": [
    "### Shop Webscrapping"
   ]
  },
  {
   "attachments": {},
   "cell_type": "markdown",
   "metadata": {},
   "source": [
    "We are going to scrape data from the shopzetu website which will be used for analysis"
   ]
  },
  {
   "cell_type": "code",
   "execution_count": 118,
   "metadata": {},
   "outputs": [],
   "source": [
    "# Importing Libraries\n",
    "import csv\n",
    "import time\n",
    "import selenium\n",
    "from bs4 import BeautifulSoup\n"
   ]
  },
  {
   "cell_type": "code",
   "execution_count": 119,
   "metadata": {},
   "outputs": [],
   "source": [
    "\n",
    "from selenium import webdriver"
   ]
  },
  {
   "cell_type": "code",
   "execution_count": 120,
   "metadata": {},
   "outputs": [],
   "source": [
    "# executable path for the web driver\n",
    "chrome_driver =r\"C:\\Users\\danie\\Downloads\\chromedriver\\chromedriver\"\n",
    "#initializing the driver \n",
    "driver = webdriver.Chrome(chrome_driver)\n"
   ]
  },
  {
   "cell_type": "code",
   "execution_count": 121,
   "metadata": {},
   "outputs": [],
   "source": [
    "url = \"https://shopzetu.com\"\n",
    "driver.get(url)"
   ]
  },
  {
   "cell_type": "code",
   "execution_count": 122,
   "metadata": {},
   "outputs": [],
   "source": [
    "# A function to get the search term\n",
    "def get_url(search_term):\n",
    "    \"\"\"generate url\"\"\"\n",
    "    template=\"https://shopzetu.com/collections/{}\"\n",
    "    # replace the  a space with a dash sign, as per the website\n",
    "    search_term=search_term.replace(\" \",\"-\")\n",
    "    \n",
    "    return template.format(search_term)\n",
    "    \n",
    "    \n",
    "# Testing our function\n",
    "url= get_url(\"mens bottoms\")\n",
    "driver.get(url)"
   ]
  },
  {
   "cell_type": "code",
   "execution_count": 160,
   "metadata": {},
   "outputs": [],
   "source": [
    "def get_url2(search_term):\n",
    "    \"\"\"generate url\"\"\"\n",
    "    template =\"https://shopzetu.com/collections/{}\"\n",
    "    search_term=search_term.replace(\" \",\"-\")\n",
    "    \n",
    "    \n",
    "    \n",
    "    \n",
    "    url = template.format(search_term)\n",
    "    \n",
    "    url += \"?page={}\"\n",
    "    \n",
    "    return url"
   ]
  },
  {
   "cell_type": "markdown",
   "metadata": {},
   "source": [
    "### Using Beautiful soup"
   ]
  },
  {
   "cell_type": "markdown",
   "metadata": {},
   "source": [
    "#"
   ]
  },
  {
   "cell_type": "code",
   "execution_count": 124,
   "metadata": {},
   "outputs": [],
   "source": [
    "## initializing beautiful Soup\n",
    "soup = BeautifulSoup(driver.page_source, \"html.parser\")"
   ]
  },
  {
   "cell_type": "code",
   "execution_count": 125,
   "metadata": {},
   "outputs": [],
   "source": [
    "results= soup.find_all(class_=\"grid-product__content\")"
   ]
  },
  {
   "cell_type": "code",
   "execution_count": 126,
   "metadata": {},
   "outputs": [
    {
     "data": {
      "text/plain": [
       "41"
      ]
     },
     "execution_count": 126,
     "metadata": {},
     "output_type": "execute_result"
    }
   ],
   "source": [
    "len(results)"
   ]
  },
  {
   "cell_type": "markdown",
   "metadata": {},
   "source": [
    "### Getting information on the  first result"
   ]
  },
  {
   "cell_type": "code",
   "execution_count": 127,
   "metadata": {},
   "outputs": [],
   "source": [
    "item = results[0]"
   ]
  },
  {
   "cell_type": "code",
   "execution_count": 128,
   "metadata": {},
   "outputs": [],
   "source": [
    "item_4 = results[4]"
   ]
  },
  {
   "cell_type": "code",
   "execution_count": 129,
   "metadata": {},
   "outputs": [
    {
     "name": "stdout",
     "output_type": "stream",
     "text": [
      "Zetu Men's Surf Line Swim Shorts - Blue\n"
     ]
    }
   ],
   "source": [
    "# getting the product descriptiion\n",
    "description = item.find(class_=\"grid-product__title grid-product__title--body\").get_text()\n",
    "print(description)"
   ]
  },
  {
   "cell_type": "code",
   "execution_count": 130,
   "metadata": {},
   "outputs": [
    {
     "name": "stdout",
     "output_type": "stream",
     "text": [
      "No reviews\n"
     ]
    }
   ],
   "source": [
    "# getting the reviews\n",
    "reviews = item.find(class_=\"jdgm-prev-badge__text\").get_text()\n",
    "print(reviews)"
   ]
  },
  {
   "cell_type": "code",
   "execution_count": 131,
   "metadata": {},
   "outputs": [
    {
     "name": "stdout",
     "output_type": "stream",
     "text": [
      "0.00\n"
     ]
    }
   ],
   "source": [
    "# getting the ratings\n",
    "ratings = item.find(class_=\"jdgm-prev-badge\").get(\"data-average-rating\")\n",
    "print(ratings)\n"
   ]
  },
  {
   "cell_type": "code",
   "execution_count": 132,
   "metadata": {},
   "outputs": [
    {
     "name": "stdout",
     "output_type": "stream",
     "text": [
      "KSh2,550.00\n"
     ]
    }
   ],
   "source": [
    "# getting the original price\n",
    "original_price = item.find(class_=\"grid-product__price--original\").get_text()\n",
    "print(original_price)\n"
   ]
  },
  {
   "cell_type": "code",
   "execution_count": 133,
   "metadata": {},
   "outputs": [
    {
     "name": "stdout",
     "output_type": "stream",
     "text": [
      "30%\n"
     ]
    }
   ],
   "source": [
    "# getting the discount % \n",
    "discount = item.find(class_=\"grid-product__price--savings\").get_text().strip()[5:]\n",
    "print(discount)"
   ]
  },
  {
   "cell_type": "code",
   "execution_count": 134,
   "metadata": {},
   "outputs": [
    {
     "name": "stdout",
     "output_type": "stream",
     "text": [
      "Sale\n"
     ]
    }
   ],
   "source": [
    "# checking if the product is on sale\n",
    "sale = item.find(class_=\"grid-product__tag grid-product__tag--sale\").get_text().strip()\n",
    "print(sale)\n"
   ]
  },
  {
   "cell_type": "code",
   "execution_count": null,
   "metadata": {},
   "outputs": [],
   "source": []
  },
  {
   "cell_type": "code",
   "execution_count": 135,
   "metadata": {},
   "outputs": [
    {
     "name": "stdout",
     "output_type": "stream",
     "text": [
      "None\n"
     ]
    }
   ],
   "source": [
    "# checking if the item is sold out\n",
    "soldout = item.find( class_='grid-product__tag grid-product__tag--sold-out')\n",
    "print(soldout)"
   ]
  },
  {
   "cell_type": "code",
   "execution_count": 145,
   "metadata": {},
   "outputs": [],
   "source": [
    "def get_all(item):\n",
    "    \"\"\"A function that extracts all the data from a single record\"\"\"\n",
    "    \n",
    "    # extracting the product description\n",
    "    description = item.find(class_=\"grid-product__title grid-product__title--body\").get_text()\n",
    "   \n",
    "    \n",
    "    # extracting the product price\n",
    "    try:\n",
    "        original_price = item.find(class_=\"grid-product__price--original\").get_text()\n",
    "    except AttributeError:\n",
    "        return \"\"\n",
    "    \n",
    "    # extracting the discount %\n",
    "    \n",
    "\n",
    "    discount_tag = item.find(class_=\"grid-product__price--savings\")\n",
    "    discount = discount_tag.get_text().strip()[5:] if discount_tag is not None else \"\"\n",
    "    \n",
    "    \n",
    "    # extracting the reviews\n",
    "    reviews = item.find(class_=\"jdgm-prev-badge__text\").get_text()\n",
    "    \n",
    "    # extracting the ratings\n",
    "    ratings = item.find(class_=\"jdgm-prev-badge\").get(\"data-average-rating\")\n",
    "    \n",
    "    # get to know if the item is on sale\n",
    "    sale_tag = item.find(class_=\"grid-product__tag grid-product__tag--sale\")\n",
    "    sale = sale_tag.get_text().strip() if sale_tag is not None else \"\"\n",
    "    \n",
    "    # getting to know if the item is sold out or not\n",
    "    soldout_tag = item.find('div', class_='grid-product__tag grid-product__tag--sold-out')\n",
    "    soldout_status = \"Sold out\" if soldout_tag is not None else \"Available\"\n",
    "    \n",
    "    result = (description, original_price, discount, reviews, ratings, sale, soldout_status)\n",
    "    \n",
    "    return result\n"
   ]
  },
  {
   "cell_type": "code",
   "execution_count": 166,
   "metadata": {},
   "outputs": [],
   "source": [
    "import re\n",
    "\n",
    "def get_all2(item):\n",
    "    \"\"\"A function that extracts all the data from a single record\"\"\"\n",
    "    \n",
    "    # Extracting the product description\n",
    "    description = item.find(class_=\"grid-product__title grid-product__title--body\").get_text()\n",
    "\n",
    "    \n",
    "    # Extracting the original price\n",
    "    original_price_tag = item.find(class_=\"grid-product__price--original\")\n",
    "    original_price = original_price_tag.get_text() if original_price_tag is not None else \"\"\n",
    "    \n",
    "    # Extracting the product price and discount percentage\n",
    "    product_price_tag = item.find(class_=\"grid-product__price\")\n",
    "    product_info = product_price_tag.get_text().strip() if product_price_tag is not None else \"\"\n",
    "    \n",
    "    # Extracting the discount percentage using regex\n",
    "    discount_match = re.search(r\"Save (\\d+)%\", product_info)\n",
    "    discount = discount_match.group(1) if discount_match else \"\"\n",
    "    \n",
    "    # Extracting the product price using regex\n",
    "    product_price_match = re.search(r\"(KSh\\d{1,3}(?:,\\d{3})*(?:\\.\\d{2})?)\", product_info)\n",
    "    product_price = product_price_match.group(1) if product_price_match else \"\"\n",
    "    \n",
    "    # Extracting the reviews\n",
    "    reviews = item.find(class_=\"jdgm-prev-badge__text\").get_text()\n",
    "    \n",
    "    # Extracting the ratings\n",
    "    ratings = item.find(class_=\"jdgm-prev-badge\").get(\"data-average-rating\")\n",
    "    \n",
    "    # Getting to know if the item is on sale\n",
    "    sale_tag = item.find(class_=\"grid-product__tag grid-product__tag--sale\")\n",
    "    sale = sale_tag.get_text().strip() if sale_tag is not None else \"\"\n",
    "    \n",
    "    # Getting to know if the item is sold out or not\n",
    "    soldout_tag = item.find('div', class_='grid-product__tag grid-product__tag--sold-out')\n",
    "    soldout_status = \"Sold out\" if soldout_tag is not None else \"Available\"\n",
    "\n",
    "    result = (description, original_price, discount, reviews, ratings, sale, soldout_status, product_price)\n",
    "    \n",
    "    return result\n"
   ]
  },
  {
   "cell_type": "code",
   "execution_count": 147,
   "metadata": {},
   "outputs": [],
   "source": [
    "import re\n",
    "def get_all3(item):\n",
    "    \"\"\"A function that extracts all the data from a single record\"\"\"\n",
    "    \n",
    "    # Extracting the product description\n",
    "    description = item.find(class_=\"grid-product__title grid-product__title--body\").get_text()\n",
    "    \n",
    "    # Extracting the original price\n",
    "    original_price_tag = item.find(class_=\"grid-product__price--original\")\n",
    "    original_price = original_price_tag.get_text() if original_price_tag is not None else \"\"\n",
    "    \n",
    "    # Extracting the product price and discount percentage\n",
    "    product_price_tag = item.find(class_=\"grid-product__price\")\n",
    "    product_info = product_price_tag.get_text().strip() if product_price_tag is not None else \"\"\n",
    "    \n",
    "    # Extracting the discount percentage using regex\n",
    "    discount_match = re.search(r\"Save (\\d+)%\", product_info)\n",
    "    discount = discount_match.group(1) if discount_match else \"\"\n",
    "    \n",
    "    # Extracting the product price using regex\n",
    "    product_price_match = re.search(r\"Sale price(KSh\\d{1,3}(?:,\\d{3})*(?:\\.\\d{2})?)\", product_info)\n",
    "    product_price = product_price_match.group(1) if product_price_match else \"\"\n",
    "    \n",
    "    # Extracting the reviews\n",
    "    reviews = item.find(class_=\"jdgm-prev-badge__text\").get_text()\n",
    "    \n",
    "    # Extracting the ratings\n",
    "    ratings = item.find(class_=\"jdgm-prev-badge\").get(\"data-average-rating\")\n",
    "    \n",
    "    # Getting to know if the item is on sale\n",
    "    sale_tag = item.find(class_=\"grid-product__tag grid-product__tag--sale\")\n",
    "    sale = sale_tag.get_text().strip() if sale_tag is not None else \"\"\n",
    "    \n",
    "    # Getting to know if the item is sold out or not\n",
    "    soldout_tag = item.find('div', class_='grid-product__tag grid-product__tag--sold-out')\n",
    "    soldout_status = \"Sold out\" if soldout_tag is not None else \"Available\"\n",
    "\n",
    "    # Removing the newline characters from the product price and discount\n",
    "    product_price = product_price.replace('\\n', '').strip()\n",
    "    discount = discount.strip()\n",
    "    \n",
    "    result = (description, original_price, discount, reviews, ratings, sale, soldout_status, product_price,product_info)\n",
    "    \n",
    "    return result\n",
    " "
   ]
  },
  {
   "cell_type": "code",
   "execution_count": 167,
   "metadata": {},
   "outputs": [],
   "source": [
    "\"\"\"Appending all the results into a list\"\"\"\n",
    "\n",
    "# an empty list\n",
    "records =[]\n",
    "\n",
    "## getting all results using a unique component\n",
    "results= soup.find_all(class_=\"grid-product__content\")\n",
    "\n",
    "for item in  results:\n",
    "    records.append(get_all2(item))\n"
   ]
  },
  {
   "cell_type": "code",
   "execution_count": 149,
   "metadata": {},
   "outputs": [
    {
     "data": {
      "text/plain": [
       "[(\"Zetu Men's Surf Line Swim Shorts - Blue\",\n",
       "  'KSh2,550.00',\n",
       "  '30%',\n",
       "  'No reviews',\n",
       "  '0.00',\n",
       "  'Sale',\n",
       "  'Available'),\n",
       " (\"Zetu Men's 'Make Yourself...' Shorts - Grey\",\n",
       "  'KSh1,800.00',\n",
       "  '30%',\n",
       "  'No reviews',\n",
       "  '0.00',\n",
       "  'Sale',\n",
       "  'Available'),\n",
       " (\"Zetu Men's Diagonal Line Textured Shorts - White\",\n",
       "  'KSh1,800.00',\n",
       "  '30%',\n",
       "  'No reviews',\n",
       "  '0.00',\n",
       "  'Sale',\n",
       "  'Available'),\n",
       " (\"Zetu Men's Diagonal Line Textured Shorts - Grey\",\n",
       "  'KSh1,800.00',\n",
       "  '30%',\n",
       "  'No reviews',\n",
       "  '0.00',\n",
       "  'Sale',\n",
       "  'Available'),\n",
       " (\"Zetu Men's Square Textured Shorts - Grey\",\n",
       "  'KSh1,800.00',\n",
       "  '30%',\n",
       "  '1 review',\n",
       "  '5.00',\n",
       "  'Sale',\n",
       "  'Available'),\n",
       " (\"Zetu Men's Square Textured Shorts - White\",\n",
       "  'KSh1,800.00',\n",
       "  '30%',\n",
       "  'No reviews',\n",
       "  '0.00',\n",
       "  'Sale',\n",
       "  'Available'),\n",
       " (\"Zetu Men's Square Textured Shorts - Black\",\n",
       "  'KSh1,800.00',\n",
       "  '30%',\n",
       "  'No reviews',\n",
       "  '0.00',\n",
       "  'Sale',\n",
       "  'Available'),\n",
       " (\"Zetu Men's Letter Print Shorts - Black\",\n",
       "  'KSh1,800.00',\n",
       "  '30%',\n",
       "  'No reviews',\n",
       "  '0.00',\n",
       "  'Sale',\n",
       "  'Available'),\n",
       " (\"Zetu Men's 'Make Yourself...' Shorts - Beige\",\n",
       "  'KSh2,100.00',\n",
       "  '30%',\n",
       "  'No reviews',\n",
       "  '0.00',\n",
       "  'Sale',\n",
       "  'Available'),\n",
       " (\"Zetu Men's 'Make Yourself...' Shorts - Black\",\n",
       "  'KSh1,800.00',\n",
       "  '30%',\n",
       "  'No reviews',\n",
       "  '0.00',\n",
       "  'Sale',\n",
       "  'Available'),\n",
       " (\"Zetu Men's 'Make Yourself...' Shorts - White\",\n",
       "  'KSh1,800.00',\n",
       "  '30%',\n",
       "  'No reviews',\n",
       "  '0.00',\n",
       "  'Sale',\n",
       "  'Available'),\n",
       " (\"Zetu Men's Beach Shorts - Teal\",\n",
       "  'KSh2,100.00',\n",
       "  '30%',\n",
       "  'No reviews',\n",
       "  '0.00',\n",
       "  'Sale',\n",
       "  'Available'),\n",
       " (\"Zetu Men's Print Beach Shorts - Pink\",\n",
       "  'KSh2,100.00',\n",
       "  '30%',\n",
       "  'No reviews',\n",
       "  '0.00',\n",
       "  'Sale',\n",
       "  'Available'),\n",
       " (\"Zetu Men's Print Beach Shorts - Brown/Blue\",\n",
       "  'KSh2,100.00',\n",
       "  '30%',\n",
       "  'No reviews',\n",
       "  '0.00',\n",
       "  'Sale',\n",
       "  'Available'),\n",
       " (\"Zetu Men's Beach Shorts - Brown\",\n",
       "  'KSh2,100.00',\n",
       "  '30%',\n",
       "  'No reviews',\n",
       "  '0.00',\n",
       "  'Sale',\n",
       "  'Available'),\n",
       " (\"Zetu Men's Beach Shorts - Navy Blue\",\n",
       "  'KSh2,100.00',\n",
       "  '30%',\n",
       "  'No reviews',\n",
       "  '0.00',\n",
       "  'Sale',\n",
       "  'Available'),\n",
       " (\"Zetu Men's Beach Shorts - Mint Green\",\n",
       "  'KSh2,100.00',\n",
       "  '30%',\n",
       "  'No reviews',\n",
       "  '0.00',\n",
       "  'Sale',\n",
       "  'Available'),\n",
       " (\"Zetu Men's Beach Shorts - Pink\",\n",
       "  'KSh2,100.00',\n",
       "  '30%',\n",
       "  'No reviews',\n",
       "  '0.00',\n",
       "  'Sale',\n",
       "  'Available'),\n",
       " (\"Zetu Men's Beach Shorts - Black\",\n",
       "  'KSh2,100.00',\n",
       "  '30%',\n",
       "  'No reviews',\n",
       "  '0.00',\n",
       "  'Sale',\n",
       "  'Available'),\n",
       " (\"Zetu Men's Chino Shorts - Salmon Orange\",\n",
       "  'KSh2,500.00',\n",
       "  '30%',\n",
       "  'No reviews',\n",
       "  '0.00',\n",
       "  'Sale',\n",
       "  'Available'),\n",
       " (\"Zetu Men's Chino Shorts - Khaki Grey\",\n",
       "  'KSh2,500.00',\n",
       "  '30%',\n",
       "  'No reviews',\n",
       "  '0.00',\n",
       "  'Sale',\n",
       "  'Available'),\n",
       " (\"Zetu Men's Chino Shorts - Mustard\",\n",
       "  'KSh2,500.00',\n",
       "  '30%',\n",
       "  'No reviews',\n",
       "  '0.00',\n",
       "  'Sale',\n",
       "  'Available'),\n",
       " (\"Zetu Men's Chino Shorts - Stone Blue\",\n",
       "  'KSh2,500.00',\n",
       "  '30%',\n",
       "  'No reviews',\n",
       "  '0.00',\n",
       "  'Sale',\n",
       "  'Available'),\n",
       " (\"Zetu Men's Chino Shorts - Teal Blue\",\n",
       "  'KSh2,500.00',\n",
       "  '30%',\n",
       "  'No reviews',\n",
       "  '0.00',\n",
       "  'Sale',\n",
       "  'Available'),\n",
       " (\"Zetu Men's Chino Shorts - Maroon\",\n",
       "  'KSh2,500.00',\n",
       "  '30%',\n",
       "  'No reviews',\n",
       "  '0.00',\n",
       "  'Sale',\n",
       "  'Available'),\n",
       " (\"Zetu Men's Chino Shorts - Navy Blue\",\n",
       "  'KSh2,500.00',\n",
       "  '30%',\n",
       "  'No reviews',\n",
       "  '0.00',\n",
       "  'Sale',\n",
       "  'Available'),\n",
       " (\"Zetu Men's Chino Shorts - Cream\",\n",
       "  'KSh2,500.00',\n",
       "  '30%',\n",
       "  'No reviews',\n",
       "  '0.00',\n",
       "  'Sale',\n",
       "  'Available'),\n",
       " (\"Zetu Men's Chino Shorts - White\",\n",
       "  'KSh2,500.00',\n",
       "  '30%',\n",
       "  'No reviews',\n",
       "  '0.00',\n",
       "  'Sale',\n",
       "  'Available'),\n",
       " (\"Zetu Men's Chino Shorts - Black\",\n",
       "  'KSh2,500.00',\n",
       "  '30%',\n",
       "  'No reviews',\n",
       "  '0.00',\n",
       "  'Sale',\n",
       "  'Available'),\n",
       " (\"Alladin Zecchino Per Men's Short - White\",\n",
       "  'KSh1,600.00',\n",
       "  '30%',\n",
       "  'No reviews',\n",
       "  '0.00',\n",
       "  'Sale',\n",
       "  'Available'),\n",
       " (\"Alladin Zecchino Per Men's Short - Black\",\n",
       "  'KSh1,600.00',\n",
       "  '30%',\n",
       "  '2 reviews',\n",
       "  '5.00',\n",
       "  'Sale',\n",
       "  'Available'),\n",
       " (\"Alladin Zecchino Men's Breakfield Short - Grey\",\n",
       "  'KSh1,600.00',\n",
       "  '30%',\n",
       "  'No reviews',\n",
       "  '0.00',\n",
       "  'Sale',\n",
       "  'Available'),\n",
       " (\"King's Collection Men's Boxers (2 Pack) - Black / Maroon\",\n",
       "  'KSh1,250.00',\n",
       "  '15%',\n",
       "  'No reviews',\n",
       "  '0.00',\n",
       "  '',\n",
       "  'Sold out'),\n",
       " (\"King's Collection Unisex Joggers - Navy Blue\",\n",
       "  'KSh1,850.00',\n",
       "  '15%',\n",
       "  '3 reviews',\n",
       "  '4.67',\n",
       "  'Sale',\n",
       "  'Available'),\n",
       " (\"King's Collection Unisex Joggers - Black\",\n",
       "  'KSh1,850.00',\n",
       "  '15%',\n",
       "  '1 review',\n",
       "  '5.00',\n",
       "  'Sale',\n",
       "  'Available'),\n",
       " (\"King's Collection Unisex Straight Leg Joggers - Black\",\n",
       "  'KSh1,650.00',\n",
       "  '15%',\n",
       "  '2 reviews',\n",
       "  '4.50',\n",
       "  'Sale',\n",
       "  'Available'),\n",
       " (\"King's Collection Unisex Straight Leg Joggers - Dark Grey\",\n",
       "  'KSh1,650.00',\n",
       "  '15%',\n",
       "  'No reviews',\n",
       "  '0.00',\n",
       "  'Sale',\n",
       "  'Available'),\n",
       " (\"King's Collection Unisex Straight Leg Joggers - Navy Blue\",\n",
       "  'KSh1,650.00',\n",
       "  '15%',\n",
       "  'No reviews',\n",
       "  '0.00',\n",
       "  'Sale',\n",
       "  'Available'),\n",
       " (\"King's Collection Unisex Cuffed Joggers - Black\",\n",
       "  'KSh1,650.00',\n",
       "  '15%',\n",
       "  'No reviews',\n",
       "  '0.00',\n",
       "  'Sale',\n",
       "  'Available'),\n",
       " (\"King's Collection Unisex Cuffed Joggers - Navy Blue\",\n",
       "  'KSh1,650.00',\n",
       "  '15%',\n",
       "  'No reviews',\n",
       "  '0.00',\n",
       "  'Sale',\n",
       "  'Available'),\n",
       " (\"King's Collection Unisex Cuffed Joggers - Dark Grey\",\n",
       "  'KSh1,650.00',\n",
       "  '15%',\n",
       "  '1 review',\n",
       "  '4.00',\n",
       "  'Sale',\n",
       "  'Available')]"
      ]
     },
     "execution_count": 149,
     "metadata": {},
     "output_type": "execute_result"
    }
   ],
   "source": [
    "records"
   ]
  },
  {
   "cell_type": "code",
   "execution_count": null,
   "metadata": {},
   "outputs": [],
   "source": [
    "\n",
    "\n"
   ]
  },
  {
   "cell_type": "code",
   "execution_count": 150,
   "metadata": {},
   "outputs": [],
   "source": [
    "\"\"\"Writing the main program that does all this \"\"\"\n",
    "def main_programme(search_term,column):\n",
    "    # start up the webdriver\n",
    "    \n",
    "    # executable path for the web driver\n",
    "    #chrome_driver =r\"C:\\Users\\danie\\Downloads\\chromedriver\\chromedriver\"\n",
    "    #initializing the driver \n",
    "    driver = webdriver.Chrome(chrome_driver)\n",
    "    \n",
    "    \n",
    "    # empty list \n",
    "    records = []\n",
    "    \n",
    "    # Get the URL\n",
    "    url = get_url(search_term)\n",
    "    \n",
    "    \n",
    "    with open(column, 'a', newline=\"\", encoding='utf-8') as f:\n",
    "        writer = csv.writer(f)\n",
    "        \n",
    "        driver.get(url)\n",
    "        soup = BeautifulSoup(driver.page_source, \"html.parser\")\n",
    "        results= soup.find_all(class_=\"grid-product__content\")\n",
    "        for item in results:\n",
    "            record = get_all(item)\n",
    "            if record:\n",
    "                records.append(record)\n",
    "        \n",
    "    \n",
    "        writer.writerow([\"description\",'original_price','discount','reviews','ratings','sale','soldout'])\n",
    "        writer.writerows(records)\n",
    "    \n",
    "    driver.close()\n",
    "    \n",
    "\n",
    "    \n",
    "    \n",
    "    \n",
    "    \n",
    "\n",
    "    \n",
    "    "
   ]
  },
  {
   "cell_type": "code",
   "execution_count": 206,
   "metadata": {},
   "outputs": [],
   "source": [
    "def main_programme_lady(search_term,column):\n",
    "    # start up the webdriver\n",
    "    \n",
    "    # executable path for the web driver\n",
    "    #chrome_driver =r\"C:\\Users\\danie\\Downloads\\chromedriver\\chromedriver\"\n",
    "    #initializing the driver \n",
    "    driver = webdriver.Chrome(chrome_driver)\n",
    "    \n",
    "    \n",
    "    # empty list \n",
    "    records = []\n",
    "    \n",
    "    # Get the URL\n",
    "    url = get_url2(search_term)\n",
    "\n",
    "\n",
    "    for page in range(1,3):\n",
    "        driver.get(url.format(page))\n",
    "        soup = BeautifulSoup(driver.page_source, \"html.parser\")\n",
    "        results= soup.find_all(class_=\"grid-product__content\")\n",
    "        for item in results:\n",
    "            record = get_all2(item)\n",
    "            if record:\n",
    "                records.append(record)\n",
    "                \n",
    "\n",
    "    with open(column, 'a', newline=\"\", encoding='utf-8') as f:\n",
    "        writer = csv.writer(f)\n",
    "        writer.writerow([\"description\",'original_price','discount','reviews','ratings','sale','soldout','product_price'])\n",
    "        writer.writerows(records)\n",
    "    driver.close()\n",
    " "
   ]
  },
  {
   "cell_type": "code",
   "execution_count": null,
   "metadata": {},
   "outputs": [],
   "source": []
  },
  {
   "cell_type": "code",
   "execution_count": 177,
   "metadata": {},
   "outputs": [],
   "source": [
    "# main_programme(\"mens suits\",\"menssuits.csv\")"
   ]
  },
  {
   "cell_type": "code",
   "execution_count": 196,
   "metadata": {},
   "outputs": [],
   "source": [
    "# using the script to extract womens tops\n",
    "main_programme_lady(\"womens footwear\",'womenfootwear.csv')"
   ]
  },
  {
   "cell_type": "code",
   "execution_count": 224,
   "metadata": {},
   "outputs": [],
   "source": [
    "main_programme_lady(\"moisturisers and creams\" , \"moisturizers and cream.csv\")"
   ]
  },
  {
   "cell_type": "code",
   "execution_count": null,
   "metadata": {},
   "outputs": [],
   "source": []
  },
  {
   "cell_type": "code",
   "execution_count": null,
   "metadata": {},
   "outputs": [],
   "source": []
  },
  {
   "cell_type": "code",
   "execution_count": null,
   "metadata": {},
   "outputs": [],
   "source": []
  },
  {
   "cell_type": "code",
   "execution_count": null,
   "metadata": {},
   "outputs": [],
   "source": []
  },
  {
   "cell_type": "code",
   "execution_count": null,
   "metadata": {},
   "outputs": [],
   "source": []
  },
  {
   "cell_type": "code",
   "execution_count": null,
   "metadata": {},
   "outputs": [],
   "source": []
  },
  {
   "cell_type": "code",
   "execution_count": null,
   "metadata": {},
   "outputs": [],
   "source": []
  },
  {
   "cell_type": "code",
   "execution_count": null,
   "metadata": {},
   "outputs": [],
   "source": []
  },
  {
   "cell_type": "code",
   "execution_count": null,
   "metadata": {},
   "outputs": [],
   "source": []
  }
 ],
 "metadata": {
  "kernelspec": {
   "display_name": "dan",
   "language": "python",
   "name": "python3"
  },
  "language_info": {
   "codemirror_mode": {
    "name": "ipython",
    "version": 3
   },
   "file_extension": ".py",
   "mimetype": "text/x-python",
   "name": "python",
   "nbconvert_exporter": "python",
   "pygments_lexer": "ipython3",
   "version": "3.10.9"
  },
  "orig_nbformat": 4
 },
 "nbformat": 4,
 "nbformat_minor": 2
}
