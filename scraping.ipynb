{
 "cells": [
  {
   "attachments": {},
   "cell_type": "markdown",
   "metadata": {},
   "source": [
    "### Shop Webscrapping"
   ]
  },
  {
   "attachments": {},
   "cell_type": "markdown",
   "metadata": {},
   "source": [
    "We are going to scrape data from the shopzetu website which will be used for analysis"
   ]
  },
  {
   "cell_type": "code",
   "execution_count": 1,
   "metadata": {},
   "outputs": [],
   "source": [
    "# Importing Libraries\n",
    "import csv\n",
    "import time\n",
    "import selenium\n",
    "from bs4 import BeautifulSoup\n"
   ]
  },
  {
   "cell_type": "code",
   "execution_count": 2,
   "metadata": {},
   "outputs": [],
   "source": [
    "\n",
    "from selenium import webdriver"
   ]
  },
  {
   "cell_type": "code",
   "execution_count": 3,
   "metadata": {},
   "outputs": [],
   "source": [
    "# executable path for the web driver\n",
    "chrome_driver =r\"C:\\Users\\danie\\Downloads\\chromedriver\\chromedriver\"\n",
    "#initializing the driver \n",
    "driver = webdriver.Chrome(chrome_driver)\n"
   ]
  },
  {
   "cell_type": "code",
   "execution_count": 5,
   "metadata": {},
   "outputs": [],
   "source": [
    "url = \"https://shopzetu.com\"\n",
    "driver.get(url)"
   ]
  },
  {
   "cell_type": "code",
   "execution_count": 6,
   "metadata": {},
   "outputs": [],
   "source": [
    "# A function to get the search term\n",
    "def get_url(search_term):\n",
    "    \"\"\"generate url\"\"\"\n",
    "    template=\"https://shopzetu.com/collections/{}\"\n",
    "    # replace the  a space with a dash sign, as per the website\n",
    "    search_term=search_term.replace(\" \",\"-\")\n",
    "    \n",
    "    return template.format(search_term)\n",
    "    \n",
    "    \n",
    "# Testing our function\n",
    "url= get_url(\"mens bottoms\")\n",
    "driver.get(url)"
   ]
  },
  {
   "cell_type": "markdown",
   "metadata": {},
   "source": [
    "### Using Beautiful soup"
   ]
  },
  {
   "cell_type": "markdown",
   "metadata": {},
   "source": [
    "#"
   ]
  },
  {
   "cell_type": "code",
   "execution_count": 7,
   "metadata": {},
   "outputs": [],
   "source": [
    "## initializing beautiful Soup\n",
    "soup = BeautifulSoup(driver.page_source, \"html.parser\")"
   ]
  },
  {
   "cell_type": "code",
   "execution_count": 8,
   "metadata": {},
   "outputs": [],
   "source": [
    "results= soup.find_all(class_=\"grid-product__content\")"
   ]
  },
  {
   "cell_type": "code",
   "execution_count": 9,
   "metadata": {},
   "outputs": [
    {
     "data": {
      "text/plain": [
       "43"
      ]
     },
     "execution_count": 9,
     "metadata": {},
     "output_type": "execute_result"
    }
   ],
   "source": [
    "len(results)"
   ]
  },
  {
   "cell_type": "markdown",
   "metadata": {},
   "source": [
    "### Getting information on the  first result"
   ]
  },
  {
   "cell_type": "code",
   "execution_count": 10,
   "metadata": {},
   "outputs": [],
   "source": [
    "item = results[0]"
   ]
  },
  {
   "cell_type": "code",
   "execution_count": 11,
   "metadata": {},
   "outputs": [],
   "source": [
    "item_4 = results[4]"
   ]
  },
  {
   "cell_type": "code",
   "execution_count": 12,
   "metadata": {},
   "outputs": [
    {
     "name": "stdout",
     "output_type": "stream",
     "text": [
      "Zetu Men's Surf Line Swim Shorts - Blue\n"
     ]
    }
   ],
   "source": [
    "# getting the product descriptiion\n",
    "description = item.find(class_=\"grid-product__title grid-product__title--body\").get_text()\n",
    "print(description)"
   ]
  },
  {
   "cell_type": "code",
   "execution_count": 13,
   "metadata": {},
   "outputs": [
    {
     "name": "stdout",
     "output_type": "stream",
     "text": [
      "No reviews\n"
     ]
    }
   ],
   "source": [
    "# getting the reviews\n",
    "reviews = item.find(class_=\"jdgm-prev-badge__text\").get_text()\n",
    "print(reviews)"
   ]
  },
  {
   "cell_type": "code",
   "execution_count": 14,
   "metadata": {},
   "outputs": [
    {
     "name": "stdout",
     "output_type": "stream",
     "text": [
      "0.00\n"
     ]
    }
   ],
   "source": [
    "# getting the ratings\n",
    "ratings = item.find(class_=\"jdgm-prev-badge\").get(\"data-average-rating\")\n",
    "print(ratings)\n"
   ]
  },
  {
   "cell_type": "code",
   "execution_count": 15,
   "metadata": {},
   "outputs": [
    {
     "name": "stdout",
     "output_type": "stream",
     "text": [
      "KSh2,550.00\n"
     ]
    }
   ],
   "source": [
    "# getting the original price\n",
    "original_price = item.find(class_=\"grid-product__price--original\").get_text()\n",
    "print(original_price)\n"
   ]
  },
  {
   "cell_type": "code",
   "execution_count": 16,
   "metadata": {},
   "outputs": [
    {
     "name": "stdout",
     "output_type": "stream",
     "text": [
      "30%\n"
     ]
    }
   ],
   "source": [
    "# getting the discount % \n",
    "discount = item.find(class_=\"grid-product__price--savings\").get_text().strip()[5:]\n",
    "print(discount)"
   ]
  },
  {
   "cell_type": "code",
   "execution_count": 17,
   "metadata": {},
   "outputs": [
    {
     "name": "stdout",
     "output_type": "stream",
     "text": [
      "Sale\n"
     ]
    }
   ],
   "source": [
    "# checking if the product is on sale\n",
    "sale = item.find(class_=\"grid-product__tag grid-product__tag--sale\").get_text().strip()\n",
    "print(sale)\n"
   ]
  },
  {
   "cell_type": "code",
   "execution_count": null,
   "metadata": {},
   "outputs": [],
   "source": []
  },
  {
   "cell_type": "code",
   "execution_count": 42,
   "metadata": {},
   "outputs": [
    {
     "name": "stdout",
     "output_type": "stream",
     "text": [
      "None\n"
     ]
    }
   ],
   "source": [
    "# checking if the item is sold out\n",
    "soldout = item.find( class_='grid-product__tag grid-product__tag--sold-out')\n",
    "print(soldout)"
   ]
  },
  {
   "cell_type": "code",
   "execution_count": 43,
   "metadata": {},
   "outputs": [],
   "source": [
    "# extracting the data once from a single item\n",
    "def get_all(item):\n",
    "    \"\"\"A function that extracts all the data from a single record\"\"\"\n",
    "    \n",
    "    # extracting the product description\n",
    "    description = item.find(class_=\"grid-product__title grid-product__title--body\").get_text()\n",
    "    \n",
    "    # extracting the product price\n",
    "    try:\n",
    "        original_price = item.find(class_=\"grid-product__price--original\").get_text()\n",
    "    except AttributeError:\n",
    "        return\n",
    "    # extracting the discount %\n",
    "    discount = item.find(class_=\"grid-product__price--savings\").get_text().strip()[5:]\n",
    "    \n",
    "    # extracting the reviews\n",
    "    reviews = item.find(class_=\"jdgm-prev-badge__text\").get_text()\n",
    "    \n",
    "    # extracting the ratings\n",
    "    ratings = item.find(class_=\"jdgm-prev-badge\").get(\"data-average-rating\")\n",
    "    \n",
    "    # get to to know if the item is on sale\n",
    "    try:\n",
    "        sale = item.find(class_=\"grid-product__tag grid-product__tag--sale\").get_text().strip()\n",
    "    except AttributeError:\n",
    "        return\n",
    "    # getting to know if the item is sold out or not\n",
    "    try:\n",
    "        soldout = item.find('div', class_='grid-product__tag grid-product__tag--sold-out')\n",
    "    except  AttributeError:\n",
    "        return \n",
    "    \n",
    "    result = (description,original_price,discount,reviews,ratings,sale,soldout)\n",
    "    \n",
    "    \n",
    "    return result\n",
    "    \n",
    "    \n",
    "    \n",
    "    "
   ]
  },
  {
   "cell_type": "code",
   "execution_count": 44,
   "metadata": {},
   "outputs": [],
   "source": [
    "\"\"\"Appending all the results into a list\"\"\"\n",
    "\n",
    "# an empty list\n",
    "records =[]\n",
    "\n",
    "## getting all results using a unique component\n",
    "results= soup.find_all('div',{\"class\":\"grid-product__content\"})\n",
    "\n",
    "for item in  results:\n",
    "    records.append(get_all(item))\n"
   ]
  },
  {
   "cell_type": "code",
   "execution_count": 45,
   "metadata": {},
   "outputs": [
    {
     "data": {
      "text/plain": [
       "[(\"Zetu Men's Surf Line Swim Shorts - Blue\",\n",
       "  'KSh2,550.00',\n",
       "  '30%',\n",
       "  'No reviews',\n",
       "  '0.00',\n",
       "  'Sale',\n",
       "  None),\n",
       " (\"Zetu Men's 'Make Yourself...' Shorts - Grey\",\n",
       "  'KSh1,800.00',\n",
       "  '30%',\n",
       "  'No reviews',\n",
       "  '0.00',\n",
       "  'Sale',\n",
       "  None),\n",
       " (\"Zetu Men's Diagonal Line Textured Shorts - White\",\n",
       "  'KSh1,800.00',\n",
       "  '30%',\n",
       "  'No reviews',\n",
       "  '0.00',\n",
       "  'Sale',\n",
       "  None),\n",
       " (\"Zetu Men's Diagonal Line Textured Shorts - Grey\",\n",
       "  'KSh1,800.00',\n",
       "  '30%',\n",
       "  'No reviews',\n",
       "  '0.00',\n",
       "  'Sale',\n",
       "  None),\n",
       " (\"Zetu Men's Square Textured Shorts - Grey\",\n",
       "  'KSh1,800.00',\n",
       "  '30%',\n",
       "  '1 review',\n",
       "  '5.00',\n",
       "  'Sale',\n",
       "  None),\n",
       " (\"Zetu Men's Square Textured Shorts - White\",\n",
       "  'KSh1,800.00',\n",
       "  '30%',\n",
       "  'No reviews',\n",
       "  '0.00',\n",
       "  'Sale',\n",
       "  None),\n",
       " (\"Zetu Men's Square Textured Shorts - Black\",\n",
       "  'KSh1,800.00',\n",
       "  '30%',\n",
       "  'No reviews',\n",
       "  '0.00',\n",
       "  'Sale',\n",
       "  None),\n",
       " (\"Zetu Men's Letter Print Shorts - Black\",\n",
       "  'KSh1,800.00',\n",
       "  '30%',\n",
       "  'No reviews',\n",
       "  '0.00',\n",
       "  'Sale',\n",
       "  None),\n",
       " (\"Zetu Men's 'Make Yourself...' Shorts - Beige\",\n",
       "  'KSh2,100.00',\n",
       "  '30%',\n",
       "  'No reviews',\n",
       "  '0.00',\n",
       "  'Sale',\n",
       "  None),\n",
       " (\"Zetu Men's 'Make Yourself...' Shorts - Black\",\n",
       "  'KSh1,800.00',\n",
       "  '30%',\n",
       "  'No reviews',\n",
       "  '0.00',\n",
       "  'Sale',\n",
       "  None),\n",
       " (\"Zetu Men's 'Make Yourself...' Shorts - White\",\n",
       "  'KSh1,800.00',\n",
       "  '30%',\n",
       "  'No reviews',\n",
       "  '0.00',\n",
       "  'Sale',\n",
       "  None),\n",
       " (\"Zetu Men's Beach Shorts - Teal\",\n",
       "  'KSh2,100.00',\n",
       "  '30%',\n",
       "  'No reviews',\n",
       "  '0.00',\n",
       "  'Sale',\n",
       "  None),\n",
       " (\"Zetu Men's Print Beach Shorts - Pink\",\n",
       "  'KSh2,100.00',\n",
       "  '30%',\n",
       "  'No reviews',\n",
       "  '0.00',\n",
       "  'Sale',\n",
       "  None),\n",
       " None,\n",
       " (\"Zetu Men's Print Beach Shorts - Brown/Blue\",\n",
       "  'KSh2,100.00',\n",
       "  '30%',\n",
       "  'No reviews',\n",
       "  '0.00',\n",
       "  'Sale',\n",
       "  None),\n",
       " (\"Zetu Men's Beach Shorts - Brown\",\n",
       "  'KSh2,100.00',\n",
       "  '30%',\n",
       "  'No reviews',\n",
       "  '0.00',\n",
       "  'Sale',\n",
       "  None),\n",
       " (\"Zetu Men's Beach Shorts - Navy Blue\",\n",
       "  'KSh2,100.00',\n",
       "  '30%',\n",
       "  'No reviews',\n",
       "  '0.00',\n",
       "  'Sale',\n",
       "  None),\n",
       " (\"Zetu Men's Beach Shorts - Mint Green\",\n",
       "  'KSh2,100.00',\n",
       "  '30%',\n",
       "  'No reviews',\n",
       "  '0.00',\n",
       "  'Sale',\n",
       "  None),\n",
       " (\"Zetu Men's Beach Shorts - Pink\",\n",
       "  'KSh2,100.00',\n",
       "  '30%',\n",
       "  'No reviews',\n",
       "  '0.00',\n",
       "  'Sale',\n",
       "  None),\n",
       " (\"Zetu Men's Beach Shorts - Black\",\n",
       "  'KSh2,100.00',\n",
       "  '30%',\n",
       "  'No reviews',\n",
       "  '0.00',\n",
       "  'Sale',\n",
       "  None),\n",
       " (\"Zetu Men's Chino Shorts - Salmon Orange\",\n",
       "  'KSh2,500.00',\n",
       "  '30%',\n",
       "  'No reviews',\n",
       "  '0.00',\n",
       "  'Sale',\n",
       "  None),\n",
       " (\"Zetu Men's Chino Shorts - Khaki Grey\",\n",
       "  'KSh2,500.00',\n",
       "  '30%',\n",
       "  'No reviews',\n",
       "  '0.00',\n",
       "  'Sale',\n",
       "  None),\n",
       " (\"Zetu Men's Chino Shorts - Mustard\",\n",
       "  'KSh2,500.00',\n",
       "  '30%',\n",
       "  'No reviews',\n",
       "  '0.00',\n",
       "  'Sale',\n",
       "  None),\n",
       " (\"Zetu Men's Chino Shorts - Stone Blue\",\n",
       "  'KSh2,500.00',\n",
       "  '30%',\n",
       "  'No reviews',\n",
       "  '0.00',\n",
       "  'Sale',\n",
       "  None),\n",
       " (\"Zetu Men's Chino Shorts - Teal Blue\",\n",
       "  'KSh2,500.00',\n",
       "  '30%',\n",
       "  'No reviews',\n",
       "  '0.00',\n",
       "  'Sale',\n",
       "  None),\n",
       " (\"Zetu Men's Chino Shorts - Maroon\",\n",
       "  'KSh2,500.00',\n",
       "  '30%',\n",
       "  'No reviews',\n",
       "  '0.00',\n",
       "  'Sale',\n",
       "  None),\n",
       " (\"Zetu Men's Chino Shorts - Navy Blue\",\n",
       "  'KSh2,500.00',\n",
       "  '30%',\n",
       "  'No reviews',\n",
       "  '0.00',\n",
       "  'Sale',\n",
       "  None),\n",
       " (\"Zetu Men's Chino Shorts - Cream\",\n",
       "  'KSh2,500.00',\n",
       "  '30%',\n",
       "  'No reviews',\n",
       "  '0.00',\n",
       "  'Sale',\n",
       "  None),\n",
       " (\"Zetu Men's Chino Shorts - White\",\n",
       "  'KSh2,500.00',\n",
       "  '30%',\n",
       "  'No reviews',\n",
       "  '0.00',\n",
       "  'Sale',\n",
       "  None),\n",
       " (\"Zetu Men's Chino Shorts - Black\",\n",
       "  'KSh2,500.00',\n",
       "  '30%',\n",
       "  'No reviews',\n",
       "  '0.00',\n",
       "  'Sale',\n",
       "  None),\n",
       " (\"Alladin Zecchino Per Men's Short - White\",\n",
       "  'KSh1,600.00',\n",
       "  '30%',\n",
       "  'No reviews',\n",
       "  '0.00',\n",
       "  'Sale',\n",
       "  None),\n",
       " (\"Alladin Zecchino Per Men's Short - Black\",\n",
       "  'KSh1,600.00',\n",
       "  '30%',\n",
       "  '2 reviews',\n",
       "  '5.00',\n",
       "  'Sale',\n",
       "  None),\n",
       " (\"Alladin Zecchino Men's Breakfield Short - Grey\",\n",
       "  'KSh1,600.00',\n",
       "  '30%',\n",
       "  'No reviews',\n",
       "  '0.00',\n",
       "  'Sale',\n",
       "  None),\n",
       " None,\n",
       " None,\n",
       " (\"King's Collection Unisex Joggers - Navy Blue\",\n",
       "  'KSh1,850.00',\n",
       "  '15%',\n",
       "  '3 reviews',\n",
       "  '4.67',\n",
       "  'Sale',\n",
       "  None),\n",
       " (\"King's Collection Unisex Joggers - Black\",\n",
       "  'KSh1,850.00',\n",
       "  '15%',\n",
       "  '1 review',\n",
       "  '5.00',\n",
       "  'Sale',\n",
       "  None),\n",
       " (\"King's Collection Unisex Straight Leg Joggers - Black\",\n",
       "  'KSh1,650.00',\n",
       "  '15%',\n",
       "  '2 reviews',\n",
       "  '4.50',\n",
       "  'Sale',\n",
       "  None),\n",
       " (\"King's Collection Unisex Straight Leg Joggers - Dark Grey\",\n",
       "  'KSh1,650.00',\n",
       "  '15%',\n",
       "  'No reviews',\n",
       "  '0.00',\n",
       "  'Sale',\n",
       "  None),\n",
       " (\"King's Collection Unisex Straight Leg Joggers - Navy Blue\",\n",
       "  'KSh1,650.00',\n",
       "  '15%',\n",
       "  'No reviews',\n",
       "  '0.00',\n",
       "  'Sale',\n",
       "  None),\n",
       " (\"King's Collection Unisex Cuffed Joggers - Black\",\n",
       "  'KSh1,650.00',\n",
       "  '15%',\n",
       "  'No reviews',\n",
       "  '0.00',\n",
       "  'Sale',\n",
       "  None),\n",
       " (\"King's Collection Unisex Cuffed Joggers - Navy Blue\",\n",
       "  'KSh1,650.00',\n",
       "  '15%',\n",
       "  'No reviews',\n",
       "  '0.00',\n",
       "  'Sale',\n",
       "  None),\n",
       " (\"King's Collection Unisex Cuffed Joggers - Dark Grey\",\n",
       "  'KSh1,650.00',\n",
       "  '15%',\n",
       "  '1 review',\n",
       "  '4.00',\n",
       "  'Sale',\n",
       "  None)]"
      ]
     },
     "execution_count": 45,
     "metadata": {},
     "output_type": "execute_result"
    }
   ],
   "source": [
    "records"
   ]
  },
  {
   "cell_type": "code",
   "execution_count": 46,
   "metadata": {},
   "outputs": [],
   "source": [
    "\n",
    "\n",
    "def main_program(search_term, column):\n",
    "    # Set up the webdriver\n",
    "    \n",
    "    driver = webdriver.Chrome(chrome_driver)\n",
    "    \n",
    "    # Empty list to store records\n",
    "    records = []\n",
    "    \n",
    "    # Get the URL\n",
    "    url = get_url(search_term)\n",
    "    \n",
    "    with open(column, 'a', newline=\"\", encoding='utf-8') as f:\n",
    "        writer = csv.writer(f)\n",
    "        \n",
    "        driver.get(url)\n",
    "        soup = BeautifulSoup(driver.page_source, \"html.parser\")\n",
    "        results= soup.find_all('div',{\"class\":\"grid-product__content\"})\n",
    "    \n",
    "        for item in results:\n",
    "            records.append(get_all(item))\n",
    "    \n",
    "        writer.writerows(records)\n",
    "\n",
    "# Example usage\n",
    "\n"
   ]
  },
  {
   "cell_type": "code",
   "execution_count": 49,
   "metadata": {},
   "outputs": [],
   "source": [
    "\"\"\"Writing the main program that does all this \"\"\"\n",
    "def main_programme(search_term,column):\n",
    "    # start up the webdriver\n",
    "    \n",
    "    # executable path for the web driver\n",
    "    #chrome_driver =r\"C:\\Users\\danie\\Downloads\\chromedriver\\chromedriver\"\n",
    "    #initializing the driver \n",
    "    driver = webdriver.Chrome(chrome_driver)\n",
    "    \n",
    "    \n",
    "    # empty list \n",
    "    records = []\n",
    "    \n",
    "    # Get the URL\n",
    "    url = get_url(search_term)\n",
    "    \n",
    "    with open(column, 'a', newline=\"\", encoding='utf-8') as f:\n",
    "        writer = csv.writer(f)\n",
    "        \n",
    "        driver.get(url)\n",
    "        soup = BeautifulSoup(driver.page_source, \"html.parser\")\n",
    "        results= soup.find_all('div',{\"class\":\"grid-product__content\"})\n",
    "        for item in results:\n",
    "            record = get_all(item)\n",
    "            if record:\n",
    "                records.append(record)\n",
    "        \n",
    "    \n",
    "        writer.writerow([\"description\",'original_price','discount','reviews','ratings','sale','soldout'])\n",
    "        writer.writerows(records)\n",
    "    \n",
    "    driver.close()\n",
    "    \n",
    "\n",
    "    \n",
    "    \n",
    "    \n",
    "    \n",
    "\n",
    "    \n",
    "    "
   ]
  },
  {
   "cell_type": "code",
   "execution_count": 50,
   "metadata": {},
   "outputs": [],
   "source": [
    "main_programme(\"mens bottoms\",\"bttom.csv\")"
   ]
  },
  {
   "cell_type": "code",
   "execution_count": null,
   "metadata": {},
   "outputs": [],
   "source": []
  }
 ],
 "metadata": {
  "kernelspec": {
   "display_name": "dan",
   "language": "python",
   "name": "python3"
  },
  "language_info": {
   "codemirror_mode": {
    "name": "ipython",
    "version": 3
   },
   "file_extension": ".py",
   "mimetype": "text/x-python",
   "name": "python",
   "nbconvert_exporter": "python",
   "pygments_lexer": "ipython3",
   "version": "3.10.9"
  },
  "orig_nbformat": 4
 },
 "nbformat": 4,
 "nbformat_minor": 2
}
